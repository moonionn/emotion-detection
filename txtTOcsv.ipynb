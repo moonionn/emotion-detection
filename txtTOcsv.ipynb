{
 "cells": [
  {
   "cell_type": "code",
   "execution_count": 5,
   "id": "initial_id",
   "metadata": {
    "collapsed": true,
    "ExecuteTime": {
     "end_time": "2024-04-15T19:31:05.996249Z",
     "start_time": "2024-04-15T19:31:05.962532Z"
    }
   },
   "outputs": [],
   "source": [
    "import pandas as pd\n",
    "train_df = pd.read_csv('dataset/train.txt', sep=\";\", names=[\"text\", \"emotion\"])\n",
    "val_df = pd.read_csv('dataset/val.txt', sep=\";\", names=[\"text\", \"emotion\"])\n",
    "test_df = pd.read_csv('dataset/test.txt', sep=\";\", names=[\"text\", \"emotion\"])"
   ]
  },
  {
   "cell_type": "code",
   "outputs": [],
   "source": [
    "train_df = train_df.dropna()\n",
    "val_df = val_df.dropna()\n",
    "test_df = test_df.dropna()"
   ],
   "metadata": {
    "collapsed": false,
    "ExecuteTime": {
     "end_time": "2024-04-15T19:32:44.698101Z",
     "start_time": "2024-04-15T19:32:44.690353Z"
    }
   },
   "id": "2a6230fcc59eaa11",
   "execution_count": 9
  },
  {
   "cell_type": "code",
   "outputs": [],
   "source": [
    "train_df.to_csv('dataset/train.csv', index=False)\n",
    "val_df.to_csv('dataset/val.csv', index=False)\n",
    "test_df.to_csv('dataset/test.csv', index=False)"
   ],
   "metadata": {
    "collapsed": false,
    "ExecuteTime": {
     "end_time": "2024-04-15T19:39:01.943509Z",
     "start_time": "2024-04-15T19:39:01.896573Z"
    }
   },
   "id": "913a96e9b81a1e6a",
   "execution_count": 10
  },
  {
   "cell_type": "code",
   "outputs": [
    {
     "data": {
      "text/plain": "(['sadness', 'anger', 'love', 'surprise', 'fear', 'joy'],\n ['sadness', 'love', 'anger', 'joy', 'fear', 'surprise'],\n ['sadness', 'joy', 'fear', 'anger', 'love', 'surprise'])"
     },
     "execution_count": 24,
     "metadata": {},
     "output_type": "execute_result"
    }
   ],
   "source": [
    "train_df.emotion.unique().tolist(), val_df.emotion.unique().tolist(), test_df.emotion.unique().tolist()"
   ],
   "metadata": {
    "collapsed": false,
    "ExecuteTime": {
     "end_time": "2024-04-15T19:59:07.617485Z",
     "start_time": "2024-04-15T19:59:07.611932Z"
    }
   },
   "id": "e2a71eed79fad801",
   "execution_count": 24
  },
  {
   "cell_type": "code",
   "outputs": [],
   "source": [],
   "metadata": {
    "collapsed": false
   },
   "id": "26b0f146fca7aa60"
  }
 ],
 "metadata": {
  "kernelspec": {
   "display_name": "Python 3",
   "language": "python",
   "name": "python3"
  },
  "language_info": {
   "codemirror_mode": {
    "name": "ipython",
    "version": 2
   },
   "file_extension": ".py",
   "mimetype": "text/x-python",
   "name": "python",
   "nbconvert_exporter": "python",
   "pygments_lexer": "ipython2",
   "version": "2.7.6"
  }
 },
 "nbformat": 4,
 "nbformat_minor": 5
}
